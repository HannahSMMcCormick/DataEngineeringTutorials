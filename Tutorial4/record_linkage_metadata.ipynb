{
 "cells": [
  {
   "cell_type": "markdown",
   "id": "ea0f8cde",
   "metadata": {},
   "source": [
    "## Metadata and Record Linkage\n",
    "\n",
    "In this tutorial, we will show some examples for creating metadata given a tabular data. There are a lot of Python tools which can help to extract metadata from the data.\n",
    "\n",
    "Secondly, we will show how to make record linkage given two tables. In these tables, some records are duplicated in other tables. "
   ]
  },
  {
   "cell_type": "markdown",
   "id": "cfec4b8c",
   "metadata": {},
   "source": [
    "### 1. Metadata\n",
    "We will use the Python tool `frictionless` to infer the metadata from a table."
   ]
  },
  {
   "cell_type": "code",
   "execution_count": 50,
   "id": "dc2cecf7",
   "metadata": {},
   "outputs": [],
   "source": [
    "from pprint import pprint\n",
    "from frictionless import describe, Resource, Package    \n",
    "import json"
   ]
  },
  {
   "cell_type": "markdown",
   "id": "6ca6189a",
   "metadata": {},
   "source": [
    "The object `describe` returns a `TableResource`, which contains metadata information"
   ]
  },
  {
   "cell_type": "code",
   "execution_count": 45,
   "id": "05f28d34",
   "metadata": {},
   "outputs": [],
   "source": [
    "resource = describe('dataset_D_org_1000.csv')"
   ]
  },
  {
   "cell_type": "code",
   "execution_count": 46,
   "id": "4398c65b",
   "metadata": {},
   "outputs": [
    {
     "name": "stdout",
     "output_type": "stream",
     "text": [
      "{'encoding': 'utf-8',\n",
      " 'format': 'csv',\n",
      " 'mediatype': 'text/csv',\n",
      " 'name': 'dataset_d_org_1000',\n",
      " 'path': 'dataset_D_org_1000.csv',\n",
      " 'schema': {'fields': [{'name': 'rec_id', 'type': 'integer'},\n",
      "                       {'name': 'given_name', 'type': 'string'},\n",
      "                       {'name': 'surname', 'type': 'string'},\n",
      "                       {'name': 'street_number', 'type': 'integer'},\n",
      "                       {'name': 'address_1', 'type': 'string'},\n",
      "                       {'name': 'address_2', 'type': 'string'},\n",
      "                       {'name': 'suburb', 'type': 'string'},\n",
      "                       {'name': 'postcode', 'type': 'integer'},\n",
      "                       {'name': 'state', 'type': 'string'},\n",
      "                       {'name': 'date_of_birth', 'type': 'integer'},\n",
      "                       {'name': 'age', 'type': 'integer'},\n",
      "                       {'name': 'phone_number', 'type': 'string'},\n",
      "                       {'name': 'soc_sec_id', 'type': 'integer'},\n",
      "                       {'name': 'blocking_number', 'type': 'integer'}]},\n",
      " 'scheme': 'file',\n",
      " 'type': 'table'}\n"
     ]
    }
   ],
   "source": [
    "pprint(resource.to_dict())"
   ]
  },
  {
   "cell_type": "markdown",
   "id": "a201eee7",
   "metadata": {},
   "source": [
    "We can add some fields like `description` in the metadata in this example, which describes the data table. Any other fields can also be added."
   ]
  },
  {
   "cell_type": "code",
   "execution_count": 47,
   "id": "acab42da",
   "metadata": {},
   "outputs": [],
   "source": [
    "resource.description='This is a dataset of 1000 organisation records with metadata.'\n",
    "resource.title='Organisation Records with Metadata'\n"
   ]
  },
  {
   "cell_type": "code",
   "execution_count": 48,
   "id": "aa3c846d",
   "metadata": {},
   "outputs": [
    {
     "name": "stdout",
     "output_type": "stream",
     "text": [
      "{'name': 'dataset_d_org_1000',\n",
      " 'type': 'table',\n",
      " 'title': 'Organisation Records with Metadata',\n",
      " 'description': 'This is a dataset of 1000 organisation records with metadata.',\n",
      " 'path': 'dataset_D_org_1000.csv',\n",
      " 'scheme': 'file',\n",
      " 'format': 'csv',\n",
      " 'mediatype': 'text/csv',\n",
      " 'encoding': 'utf-8',\n",
      " 'schema': {'fields': [{'name': 'rec_id', 'type': 'integer'},\n",
      "                       {'name': 'given_name', 'type': 'string'},\n",
      "                       {'name': 'surname', 'type': 'string'},\n",
      "                       {'name': 'street_number', 'type': 'integer'},\n",
      "                       {'name': 'address_1', 'type': 'string'},\n",
      "                       {'name': 'address_2', 'type': 'string'},\n",
      "                       {'name': 'suburb', 'type': 'string'},\n",
      "                       {'name': 'postcode', 'type': 'integer'},\n",
      "                       {'name': 'state', 'type': 'string'},\n",
      "                       {'name': 'date_of_birth', 'type': 'integer'},\n",
      "                       {'name': 'age', 'type': 'integer'},\n",
      "                       {'name': 'phone_number', 'type': 'string'},\n",
      "                       {'name': 'soc_sec_id', 'type': 'integer'},\n",
      "                       {'name': 'blocking_number', 'type': 'integer'}]}}\n"
     ]
    }
   ],
   "source": [
    "pprint(resource)"
   ]
  },
  {
   "cell_type": "markdown",
   "id": "0c856718",
   "metadata": {},
   "source": [
    "The metadata can be imported to `JSON` file."
   ]
  },
  {
   "cell_type": "code",
   "execution_count": 49,
   "id": "c4b5f588",
   "metadata": {},
   "outputs": [],
   "source": [
    "discriptor = resource.to_descriptor()\n",
    "\n",
    "# write descriptor to json file\n",
    "with open('dataset_D_org_1000_descriptor.json', 'w') as f:\n",
    "    json.dump(discriptor, f, indent=4)"
   ]
  },
  {
   "cell_type": "markdown",
   "id": "e06ac491",
   "metadata": {},
   "source": [
    "There are two tables in this example. In the following, both metadata can be inferred."
   ]
  },
  {
   "cell_type": "code",
   "execution_count": 51,
   "id": "bdf0b9ed",
   "metadata": {},
   "outputs": [],
   "source": [
    "dataset_org = Resource('dataset_D_org_1000.csv')\n",
    "dataset_dup = Resource('dataset_D_dup_1000.csv')"
   ]
  },
  {
   "cell_type": "code",
   "execution_count": 54,
   "id": "1a4185ca",
   "metadata": {},
   "outputs": [],
   "source": [
    "# infer metadata for both tables\n",
    "dataset_org.infer()\n",
    "dataset_dup.infer()"
   ]
  },
  {
   "cell_type": "markdown",
   "id": "aaf00cd6",
   "metadata": {},
   "source": [
    "Data descriptions can be added to the metadata as shown previously. \n",
    "The collection of the data resources can be created"
   ]
  },
  {
   "cell_type": "code",
   "execution_count": 56,
   "id": "146261d5",
   "metadata": {},
   "outputs": [],
   "source": [
    "package = Package(resources=[dataset_org, dataset_dup])"
   ]
  },
  {
   "cell_type": "markdown",
   "id": "2dda43d5",
   "metadata": {},
   "source": [
    "Then infer metadata from package-level"
   ]
  },
  {
   "cell_type": "code",
   "execution_count": null,
   "id": "69c3ee08",
   "metadata": {},
   "outputs": [],
   "source": [
    "package.infer()"
   ]
  },
  {
   "cell_type": "markdown",
   "id": "3685c18f",
   "metadata": {},
   "source": [
    "Then save the metadata to a JSON file"
   ]
  },
  {
   "cell_type": "code",
   "execution_count": 57,
   "id": "0f4534f2",
   "metadata": {},
   "outputs": [
    {
     "data": {
      "text/plain": [
       "'{\\n  \"resources\": [\\n    {\\n      \"name\": \"dataset_d_org_1000\",\\n      \"type\": \"table\",\\n      \"path\": \"dataset_D_org_1000.csv\",\\n      \"scheme\": \"file\",\\n      \"format\": \"csv\",\\n      \"mediatype\": \"text/csv\",\\n      \"encoding\": \"utf-8\",\\n      \"schema\": {\\n        \"fields\": [\\n          {\\n            \"name\": \"rec_id\",\\n            \"type\": \"integer\"\\n          },\\n          {\\n            \"name\": \"given_name\",\\n            \"type\": \"string\"\\n          },\\n          {\\n            \"name\": \"surname\",\\n            \"type\": \"string\"\\n          },\\n          {\\n            \"name\": \"street_number\",\\n            \"type\": \"integer\"\\n          },\\n          {\\n            \"name\": \"address_1\",\\n            \"type\": \"string\"\\n          },\\n          {\\n            \"name\": \"address_2\",\\n            \"type\": \"string\"\\n          },\\n          {\\n            \"name\": \"suburb\",\\n            \"type\": \"string\"\\n          },\\n          {\\n            \"name\": \"postcode\",\\n            \"type\": \"integer\"\\n          },\\n          {\\n            \"name\": \"state\",\\n            \"type\": \"string\"\\n          },\\n          {\\n            \"name\": \"date_of_birth\",\\n            \"type\": \"integer\"\\n          },\\n          {\\n            \"name\": \"age\",\\n            \"type\": \"integer\"\\n          },\\n          {\\n            \"name\": \"phone_number\",\\n            \"type\": \"string\"\\n          },\\n          {\\n            \"name\": \"soc_sec_id\",\\n            \"type\": \"integer\"\\n          },\\n          {\\n            \"name\": \"blocking_number\",\\n            \"type\": \"integer\"\\n          }\\n        ]\\n      }\\n    },\\n    {\\n      \"name\": \"dataset_d_dup_1000\",\\n      \"type\": \"table\",\\n      \"path\": \"dataset_D_dup_1000.csv\",\\n      \"scheme\": \"file\",\\n      \"format\": \"csv\",\\n      \"mediatype\": \"text/csv\",\\n      \"encoding\": \"utf-8\",\\n      \"schema\": {\\n        \"fields\": [\\n          {\\n            \"name\": \"rec_id\",\\n            \"type\": \"integer\"\\n          },\\n          {\\n            \"name\": \"given_name\",\\n            \"type\": \"string\"\\n          },\\n          {\\n            \"name\": \"surname\",\\n            \"type\": \"string\"\\n          },\\n          {\\n            \"name\": \"street_number\",\\n            \"type\": \"integer\"\\n          },\\n          {\\n            \"name\": \"address_1\",\\n            \"type\": \"string\"\\n          },\\n          {\\n            \"name\": \"address_2\",\\n            \"type\": \"string\"\\n          },\\n          {\\n            \"name\": \"suburb\",\\n            \"type\": \"string\"\\n          },\\n          {\\n            \"name\": \"postcode\",\\n            \"type\": \"integer\"\\n          },\\n          {\\n            \"name\": \"state\",\\n            \"type\": \"string\"\\n          },\\n          {\\n            \"name\": \"date_of_birth\",\\n            \"type\": \"integer\"\\n          },\\n          {\\n            \"name\": \"age\",\\n            \"type\": \"integer\"\\n          },\\n          {\\n            \"name\": \"phone_number\",\\n            \"type\": \"string\"\\n          },\\n          {\\n            \"name\": \"soc_sec_id\",\\n            \"type\": \"integer\"\\n          },\\n          {\\n            \"name\": \"blocking_number\",\\n            \"type\": \"integer\"\\n          }\\n        ]\\n      }\\n    }\\n  ]\\n}'"
      ]
     },
     "execution_count": 57,
     "metadata": {},
     "output_type": "execute_result"
    }
   ],
   "source": [
    "package.to_json('dataset_1000_metadata.json')"
   ]
  },
  {
   "cell_type": "markdown",
   "id": "611264bf",
   "metadata": {},
   "source": [
    "### 2. Record Linkage"
   ]
  },
  {
   "cell_type": "markdown",
   "id": "f99a5846",
   "metadata": {},
   "source": [
    "This example shows how to find duplicated records from two data tables. The code is adapted from the Python Record Linkage Toolkit tutorial: https://recordlinkage.readthedocs.io/en/latest/guides/data_deduplication.html\n",
    "\n",
    "The way to link the data record is to choose which attributes to be used for linking them."
   ]
  },
  {
   "cell_type": "markdown",
   "id": "317b8720",
   "metadata": {},
   "source": [
    "Firstly, the package is imported"
   ]
  },
  {
   "cell_type": "code",
   "execution_count": 59,
   "id": "60acf02f",
   "metadata": {},
   "outputs": [],
   "source": [
    "import recordlinkage\n",
    "import pandas as pd"
   ]
  },
  {
   "cell_type": "markdown",
   "id": "acc1ca46",
   "metadata": {},
   "source": [
    "The datasets will be read using `pandas.DataFrame`"
   ]
  },
  {
   "cell_type": "code",
   "execution_count": 60,
   "id": "fd74d2ee",
   "metadata": {},
   "outputs": [],
   "source": [
    "org_df = pd.read_csv('dataset_D_org_1000.csv')\n",
    "dup_df = pd.read_csv('dataset_D_dup_1000.csv')"
   ]
  },
  {
   "cell_type": "code",
   "execution_count": 61,
   "id": "df187083",
   "metadata": {},
   "outputs": [
    {
     "data": {
      "text/html": [
       "<div>\n",
       "<style scoped>\n",
       "    .dataframe tbody tr th:only-of-type {\n",
       "        vertical-align: middle;\n",
       "    }\n",
       "\n",
       "    .dataframe tbody tr th {\n",
       "        vertical-align: top;\n",
       "    }\n",
       "\n",
       "    .dataframe thead th {\n",
       "        text-align: right;\n",
       "    }\n",
       "</style>\n",
       "<table border=\"1\" class=\"dataframe\">\n",
       "  <thead>\n",
       "    <tr style=\"text-align: right;\">\n",
       "      <th></th>\n",
       "      <th>rec_id</th>\n",
       "      <th>given_name</th>\n",
       "      <th>surname</th>\n",
       "      <th>street_number</th>\n",
       "      <th>address_1</th>\n",
       "      <th>address_2</th>\n",
       "      <th>suburb</th>\n",
       "      <th>postcode</th>\n",
       "      <th>state</th>\n",
       "      <th>date_of_birth</th>\n",
       "      <th>age</th>\n",
       "      <th>phone_number</th>\n",
       "      <th>soc_sec_id</th>\n",
       "      <th>blocking_number</th>\n",
       "    </tr>\n",
       "  </thead>\n",
       "  <tbody>\n",
       "    <tr>\n",
       "      <th>0</th>\n",
       "      <td>3040</td>\n",
       "      <td>lachlan</td>\n",
       "      <td>curtis</td>\n",
       "      <td>19.0</td>\n",
       "      <td>dale place</td>\n",
       "      <td>NaN</td>\n",
       "      <td>ungarie</td>\n",
       "      <td>3028.0</td>\n",
       "      <td>qld</td>\n",
       "      <td>19870906.0</td>\n",
       "      <td>24.0</td>\n",
       "      <td>07 79183195</td>\n",
       "      <td>6224611</td>\n",
       "      <td>2</td>\n",
       "    </tr>\n",
       "    <tr>\n",
       "      <th>1</th>\n",
       "      <td>3480</td>\n",
       "      <td>savannah</td>\n",
       "      <td>warburton</td>\n",
       "      <td>17.0</td>\n",
       "      <td>wambo close</td>\n",
       "      <td>NaN</td>\n",
       "      <td>collarenebri</td>\n",
       "      <td>2112.0</td>\n",
       "      <td>NaN</td>\n",
       "      <td>19690110.0</td>\n",
       "      <td>20.0</td>\n",
       "      <td>03 42548839</td>\n",
       "      <td>8612132</td>\n",
       "      <td>4</td>\n",
       "    </tr>\n",
       "    <tr>\n",
       "      <th>2</th>\n",
       "      <td>4660</td>\n",
       "      <td>caitlin</td>\n",
       "      <td>panawo</td>\n",
       "      <td>266.0</td>\n",
       "      <td>lidgett place</td>\n",
       "      <td>NaN</td>\n",
       "      <td>ingham</td>\n",
       "      <td>3028.0</td>\n",
       "      <td>NaN</td>\n",
       "      <td>19231017.0</td>\n",
       "      <td>33.0</td>\n",
       "      <td>04 02919656</td>\n",
       "      <td>1269996</td>\n",
       "      <td>8</td>\n",
       "    </tr>\n",
       "    <tr>\n",
       "      <th>3</th>\n",
       "      <td>1620</td>\n",
       "      <td>jacynta</td>\n",
       "      <td>kessner</td>\n",
       "      <td>27.0</td>\n",
       "      <td>tauchert street</td>\n",
       "      <td>NaN</td>\n",
       "      <td>wahroonga</td>\n",
       "      <td>5063.0</td>\n",
       "      <td>qld</td>\n",
       "      <td>19370624.0</td>\n",
       "      <td>27.0</td>\n",
       "      <td>08 61313982</td>\n",
       "      <td>8731381</td>\n",
       "      <td>7</td>\n",
       "    </tr>\n",
       "    <tr>\n",
       "      <th>4</th>\n",
       "      <td>720</td>\n",
       "      <td>jesse</td>\n",
       "      <td>sutherland</td>\n",
       "      <td>3.0</td>\n",
       "      <td>light street</td>\n",
       "      <td>NaN</td>\n",
       "      <td>adelong</td>\n",
       "      <td>2428.0</td>\n",
       "      <td>vic</td>\n",
       "      <td>19110305.0</td>\n",
       "      <td>19.0</td>\n",
       "      <td>02 47460338</td>\n",
       "      <td>1942604</td>\n",
       "      <td>7</td>\n",
       "    </tr>\n",
       "    <tr>\n",
       "      <th>...</th>\n",
       "      <td>...</td>\n",
       "      <td>...</td>\n",
       "      <td>...</td>\n",
       "      <td>...</td>\n",
       "      <td>...</td>\n",
       "      <td>...</td>\n",
       "      <td>...</td>\n",
       "      <td>...</td>\n",
       "      <td>...</td>\n",
       "      <td>...</td>\n",
       "      <td>...</td>\n",
       "      <td>...</td>\n",
       "      <td>...</td>\n",
       "      <td>...</td>\n",
       "    </tr>\n",
       "    <tr>\n",
       "      <th>495</th>\n",
       "      <td>4760</td>\n",
       "      <td>william</td>\n",
       "      <td>britcher</td>\n",
       "      <td>370.0</td>\n",
       "      <td>colebatch place</td>\n",
       "      <td>kilmarnock park</td>\n",
       "      <td>sinnamon park</td>\n",
       "      <td>6428.0</td>\n",
       "      <td>qld</td>\n",
       "      <td>19740314.0</td>\n",
       "      <td>NaN</td>\n",
       "      <td>07 40730324</td>\n",
       "      <td>2002052</td>\n",
       "      <td>4</td>\n",
       "    </tr>\n",
       "    <tr>\n",
       "      <th>496</th>\n",
       "      <td>1970</td>\n",
       "      <td>dylan</td>\n",
       "      <td>jones</td>\n",
       "      <td>66.0</td>\n",
       "      <td>pudney street</td>\n",
       "      <td>NaN</td>\n",
       "      <td>dover gardens</td>\n",
       "      <td>2620.0</td>\n",
       "      <td>tas</td>\n",
       "      <td>NaN</td>\n",
       "      <td>32.0</td>\n",
       "      <td>03 54119423</td>\n",
       "      <td>1222346</td>\n",
       "      <td>9</td>\n",
       "    </tr>\n",
       "    <tr>\n",
       "      <th>497</th>\n",
       "      <td>340</td>\n",
       "      <td>paris</td>\n",
       "      <td>andrews</td>\n",
       "      <td>63.0</td>\n",
       "      <td>oldfield circuit</td>\n",
       "      <td>NaN</td>\n",
       "      <td>lemon tree passage</td>\n",
       "      <td>2099.0</td>\n",
       "      <td>nsw</td>\n",
       "      <td>19690225.0</td>\n",
       "      <td>25.0</td>\n",
       "      <td>07 49098520</td>\n",
       "      <td>4061703</td>\n",
       "      <td>9</td>\n",
       "    </tr>\n",
       "    <tr>\n",
       "      <th>498</th>\n",
       "      <td>2080</td>\n",
       "      <td>kane</td>\n",
       "      <td>prior</td>\n",
       "      <td>31.0</td>\n",
       "      <td>britten-jones drive</td>\n",
       "      <td>NaN</td>\n",
       "      <td>lucas heights</td>\n",
       "      <td>3088.0</td>\n",
       "      <td>nsw</td>\n",
       "      <td>19810128.0</td>\n",
       "      <td>25.0</td>\n",
       "      <td>04 23825360</td>\n",
       "      <td>4724147</td>\n",
       "      <td>9</td>\n",
       "    </tr>\n",
       "    <tr>\n",
       "      <th>499</th>\n",
       "      <td>1370</td>\n",
       "      <td>hannah</td>\n",
       "      <td>bullock</td>\n",
       "      <td>8.0</td>\n",
       "      <td>calder place</td>\n",
       "      <td>NaN</td>\n",
       "      <td>eltham</td>\n",
       "      <td>2350.0</td>\n",
       "      <td>nsw</td>\n",
       "      <td>19191011.0</td>\n",
       "      <td>20.0</td>\n",
       "      <td>02 60701918</td>\n",
       "      <td>9323875</td>\n",
       "      <td>6</td>\n",
       "    </tr>\n",
       "  </tbody>\n",
       "</table>\n",
       "<p>500 rows × 14 columns</p>\n",
       "</div>"
      ],
      "text/plain": [
       "     rec_id given_name     surname  street_number            address_1  \\\n",
       "0      3040    lachlan      curtis           19.0           dale place   \n",
       "1      3480   savannah   warburton           17.0          wambo close   \n",
       "2      4660    caitlin      panawo          266.0        lidgett place   \n",
       "3      1620    jacynta     kessner           27.0      tauchert street   \n",
       "4       720      jesse  sutherland            3.0         light street   \n",
       "..      ...        ...         ...            ...                  ...   \n",
       "495    4760    william    britcher          370.0      colebatch place   \n",
       "496    1970      dylan       jones           66.0        pudney street   \n",
       "497     340      paris     andrews           63.0     oldfield circuit   \n",
       "498    2080       kane       prior           31.0  britten-jones drive   \n",
       "499    1370     hannah     bullock            8.0         calder place   \n",
       "\n",
       "           address_2              suburb  postcode state  date_of_birth   age  \\\n",
       "0                NaN             ungarie    3028.0   qld     19870906.0  24.0   \n",
       "1                NaN        collarenebri    2112.0   NaN     19690110.0  20.0   \n",
       "2                NaN              ingham    3028.0   NaN     19231017.0  33.0   \n",
       "3                NaN           wahroonga    5063.0   qld     19370624.0  27.0   \n",
       "4                NaN             adelong    2428.0   vic     19110305.0  19.0   \n",
       "..               ...                 ...       ...   ...            ...   ...   \n",
       "495  kilmarnock park       sinnamon park    6428.0   qld     19740314.0   NaN   \n",
       "496              NaN       dover gardens    2620.0   tas            NaN  32.0   \n",
       "497              NaN  lemon tree passage    2099.0   nsw     19690225.0  25.0   \n",
       "498              NaN       lucas heights    3088.0   nsw     19810128.0  25.0   \n",
       "499              NaN              eltham    2350.0   nsw     19191011.0  20.0   \n",
       "\n",
       "    phone_number  soc_sec_id  blocking_number  \n",
       "0    07 79183195     6224611                2  \n",
       "1    03 42548839     8612132                4  \n",
       "2    04 02919656     1269996                8  \n",
       "3    08 61313982     8731381                7  \n",
       "4    02 47460338     1942604                7  \n",
       "..           ...         ...              ...  \n",
       "495  07 40730324     2002052                4  \n",
       "496  03 54119423     1222346                9  \n",
       "497  07 49098520     4061703                9  \n",
       "498  04 23825360     4724147                9  \n",
       "499  02 60701918     9323875                6  \n",
       "\n",
       "[500 rows x 14 columns]"
      ]
     },
     "execution_count": 61,
     "metadata": {},
     "output_type": "execute_result"
    }
   ],
   "source": [
    "org_df"
   ]
  },
  {
   "cell_type": "markdown",
   "id": "5ccfa50b",
   "metadata": {},
   "source": [
    "#### Make record pairs\n",
    "\n",
    "The first task is to compare each record in DataFrame `org_df` with all other records in `dup_df`. Each record in `org_df` will be a pair with each one in `dup_df`. The number of pairs will be `len(org_df)*len(dup_df)`. \n",
    "\n",
    "In the Record Linkage Tool, the process of making record pairs is called `indexing`. With the recordlinkage module, indexing is easy. First, load the `recordlinkage.Index` class and call the `.full` method. This object generates a full index on a `.index(...)` call. In case of deduplication of a single dataframe, one dataframe is sufficient as argument. "
   ]
  },
  {
   "cell_type": "code",
   "execution_count": 62,
   "id": "2909baa8",
   "metadata": {},
   "outputs": [
    {
     "name": "stdout",
     "output_type": "stream",
     "text": [
      "WARNING:recordlinkage:indexing - performance warning - A full index can result in large number of record pairs.\n"
     ]
    }
   ],
   "source": [
    "indexer = recordlinkage.Index()\n",
    "indexer.full()  # use full indexing method\n",
    "candidate_pairs = indexer.index(org_df, dup_df)"
   ]
  },
  {
   "cell_type": "code",
   "execution_count": 63,
   "id": "fa993b62",
   "metadata": {},
   "outputs": [
    {
     "name": "stdout",
     "output_type": "stream",
     "text": [
      "500 500 250000\n"
     ]
    }
   ],
   "source": [
    "print(len(org_df),len(dup_df),len(candidate_pairs))"
   ]
  },
  {
   "cell_type": "markdown",
   "id": "3cce262d",
   "metadata": {},
   "source": [
    "Most of these pairs are not really identical or belong to the same record in the data.\n",
    "\n",
    "One of the most well known indexing methods is named `blocking`. This method includes only record pairs that are identical on one or more stored attributes of the person (or entity in general). The blocking method can be used in the `recordlinkage` module. This indicates that duplications can be exact duplication or near duplication.\n",
    "\n",
    "The following example shows to use `given_name` and `surname` as the blocking variable. The number of candidate pairs are significantly reduced."
   ]
  },
  {
   "cell_type": "code",
   "execution_count": 64,
   "id": "a308948e",
   "metadata": {},
   "outputs": [
    {
     "data": {
      "text/plain": [
       "361"
      ]
     },
     "execution_count": 64,
     "metadata": {},
     "output_type": "execute_result"
    }
   ],
   "source": [
    "indexer = recordlinkage.Index()\n",
    "indexer.block(['given_name', 'surname'])  # use blocking method on given_name and surname\n",
    "candidate_pairs = indexer.index(org_df, dup_df)\n",
    "len(candidate_pairs)"
   ]
  },
  {
   "cell_type": "markdown",
   "id": "a6f3374e",
   "metadata": {},
   "source": [
    "#### Compare records\n",
    "\n",
    "Each record pair is a candidate match. To classify the candidate record pairs into matches and non-matches, compare the records on all attributes both records have in common. The `recordlinkage` module has a class named `Compare`. This class is used to compare the records. The following code shows how to compare attributes."
   ]
  },
  {
   "cell_type": "code",
   "execution_count": 65,
   "id": "53f41dbd",
   "metadata": {},
   "outputs": [],
   "source": [
    "compare_cl = recordlinkage.Compare()\n",
    "compare_cl.exact(\"given_name\", \"given_name\", label=\"given_name\")\n",
    "compare_cl.string(\n",
    "    \"surname\", \"surname\", method=\"jarowinkler\", threshold=0.85, label=\"surname\"\n",
    ")\n",
    "compare_cl.exact(\"date_of_birth\", \"date_of_birth\", label=\"date_of_birth\")\n",
    "compare_cl.exact(\"suburb\", \"suburb\", label=\"suburb\")\n",
    "compare_cl.exact(\"state\", \"state\", label=\"state\")\n",
    "compare_cl.string(\"address_1\", \"address_1\", threshold=0.85, label=\"address_1\")\n",
    "features = compare_cl.compute(candidate_pairs, org_df, dup_df)\n"
   ]
  },
  {
   "cell_type": "markdown",
   "id": "bacc6c24",
   "metadata": {},
   "source": [
    "The comparing of record pairs starts when the `compute` method is called. All attribute comparisons are stored in a DataFrame with horizontally the features and vertically the record pairs."
   ]
  },
  {
   "cell_type": "code",
   "execution_count": 67,
   "id": "e76e9733",
   "metadata": {},
   "outputs": [
    {
     "data": {
      "text/html": [
       "<div>\n",
       "<style scoped>\n",
       "    .dataframe tbody tr th:only-of-type {\n",
       "        vertical-align: middle;\n",
       "    }\n",
       "\n",
       "    .dataframe tbody tr th {\n",
       "        vertical-align: top;\n",
       "    }\n",
       "\n",
       "    .dataframe thead th {\n",
       "        text-align: right;\n",
       "    }\n",
       "</style>\n",
       "<table border=\"1\" class=\"dataframe\">\n",
       "  <thead>\n",
       "    <tr style=\"text-align: right;\">\n",
       "      <th></th>\n",
       "      <th></th>\n",
       "      <th>given_name</th>\n",
       "      <th>surname</th>\n",
       "      <th>date_of_birth</th>\n",
       "      <th>suburb</th>\n",
       "      <th>state</th>\n",
       "      <th>address_1</th>\n",
       "    </tr>\n",
       "  </thead>\n",
       "  <tbody>\n",
       "    <tr>\n",
       "      <th>1</th>\n",
       "      <th>454</th>\n",
       "      <td>1</td>\n",
       "      <td>1.0</td>\n",
       "      <td>1</td>\n",
       "      <td>1</td>\n",
       "      <td>0</td>\n",
       "      <td>1.0</td>\n",
       "    </tr>\n",
       "    <tr>\n",
       "      <th>2</th>\n",
       "      <th>326</th>\n",
       "      <td>1</td>\n",
       "      <td>1.0</td>\n",
       "      <td>1</td>\n",
       "      <td>1</td>\n",
       "      <td>0</td>\n",
       "      <td>1.0</td>\n",
       "    </tr>\n",
       "    <tr>\n",
       "      <th>3</th>\n",
       "      <th>2</th>\n",
       "      <td>1</td>\n",
       "      <td>1.0</td>\n",
       "      <td>0</td>\n",
       "      <td>1</td>\n",
       "      <td>1</td>\n",
       "      <td>1.0</td>\n",
       "    </tr>\n",
       "    <tr>\n",
       "      <th>4</th>\n",
       "      <th>9</th>\n",
       "      <td>1</td>\n",
       "      <td>1.0</td>\n",
       "      <td>1</td>\n",
       "      <td>0</td>\n",
       "      <td>1</td>\n",
       "      <td>1.0</td>\n",
       "    </tr>\n",
       "    <tr>\n",
       "      <th>5</th>\n",
       "      <th>16</th>\n",
       "      <td>1</td>\n",
       "      <td>1.0</td>\n",
       "      <td>1</td>\n",
       "      <td>1</td>\n",
       "      <td>1</td>\n",
       "      <td>1.0</td>\n",
       "    </tr>\n",
       "    <tr>\n",
       "      <th>...</th>\n",
       "      <th>...</th>\n",
       "      <td>...</td>\n",
       "      <td>...</td>\n",
       "      <td>...</td>\n",
       "      <td>...</td>\n",
       "      <td>...</td>\n",
       "      <td>...</td>\n",
       "    </tr>\n",
       "    <tr>\n",
       "      <th>494</th>\n",
       "      <th>58</th>\n",
       "      <td>1</td>\n",
       "      <td>1.0</td>\n",
       "      <td>1</td>\n",
       "      <td>1</td>\n",
       "      <td>1</td>\n",
       "      <td>1.0</td>\n",
       "    </tr>\n",
       "    <tr>\n",
       "      <th>495</th>\n",
       "      <th>185</th>\n",
       "      <td>1</td>\n",
       "      <td>1.0</td>\n",
       "      <td>1</td>\n",
       "      <td>1</td>\n",
       "      <td>1</td>\n",
       "      <td>1.0</td>\n",
       "    </tr>\n",
       "    <tr>\n",
       "      <th>497</th>\n",
       "      <th>249</th>\n",
       "      <td>1</td>\n",
       "      <td>1.0</td>\n",
       "      <td>1</td>\n",
       "      <td>0</td>\n",
       "      <td>1</td>\n",
       "      <td>1.0</td>\n",
       "    </tr>\n",
       "    <tr>\n",
       "      <th>498</th>\n",
       "      <th>322</th>\n",
       "      <td>1</td>\n",
       "      <td>1.0</td>\n",
       "      <td>1</td>\n",
       "      <td>1</td>\n",
       "      <td>1</td>\n",
       "      <td>1.0</td>\n",
       "    </tr>\n",
       "    <tr>\n",
       "      <th>499</th>\n",
       "      <th>283</th>\n",
       "      <td>1</td>\n",
       "      <td>1.0</td>\n",
       "      <td>1</td>\n",
       "      <td>1</td>\n",
       "      <td>1</td>\n",
       "      <td>1.0</td>\n",
       "    </tr>\n",
       "  </tbody>\n",
       "</table>\n",
       "<p>361 rows × 6 columns</p>\n",
       "</div>"
      ],
      "text/plain": [
       "         given_name  surname  date_of_birth  suburb  state  address_1\n",
       "1   454           1      1.0              1       1      0        1.0\n",
       "2   326           1      1.0              1       1      0        1.0\n",
       "3   2             1      1.0              0       1      1        1.0\n",
       "4   9             1      1.0              1       0      1        1.0\n",
       "5   16            1      1.0              1       1      1        1.0\n",
       "...             ...      ...            ...     ...    ...        ...\n",
       "494 58            1      1.0              1       1      1        1.0\n",
       "495 185           1      1.0              1       1      1        1.0\n",
       "497 249           1      1.0              1       0      1        1.0\n",
       "498 322           1      1.0              1       1      1        1.0\n",
       "499 283           1      1.0              1       1      1        1.0\n",
       "\n",
       "[361 rows x 6 columns]"
      ]
     },
     "execution_count": 67,
     "metadata": {},
     "output_type": "execute_result"
    }
   ],
   "source": [
    "features"
   ]
  },
  {
   "cell_type": "code",
   "execution_count": 70,
   "id": "2611a177",
   "metadata": {},
   "outputs": [
    {
     "data": {
      "text/html": [
       "<div>\n",
       "<style scoped>\n",
       "    .dataframe tbody tr th:only-of-type {\n",
       "        vertical-align: middle;\n",
       "    }\n",
       "\n",
       "    .dataframe tbody tr th {\n",
       "        vertical-align: top;\n",
       "    }\n",
       "\n",
       "    .dataframe thead th {\n",
       "        text-align: right;\n",
       "    }\n",
       "</style>\n",
       "<table border=\"1\" class=\"dataframe\">\n",
       "  <thead>\n",
       "    <tr style=\"text-align: right;\">\n",
       "      <th></th>\n",
       "      <th>given_name</th>\n",
       "      <th>surname</th>\n",
       "      <th>date_of_birth</th>\n",
       "      <th>suburb</th>\n",
       "      <th>state</th>\n",
       "      <th>address_1</th>\n",
       "    </tr>\n",
       "  </thead>\n",
       "  <tbody>\n",
       "    <tr>\n",
       "      <th>count</th>\n",
       "      <td>361.0</td>\n",
       "      <td>361.0</td>\n",
       "      <td>361.000000</td>\n",
       "      <td>361.000000</td>\n",
       "      <td>361.000000</td>\n",
       "      <td>361.000000</td>\n",
       "    </tr>\n",
       "    <tr>\n",
       "      <th>mean</th>\n",
       "      <td>1.0</td>\n",
       "      <td>1.0</td>\n",
       "      <td>0.750693</td>\n",
       "      <td>0.886427</td>\n",
       "      <td>0.817175</td>\n",
       "      <td>0.947368</td>\n",
       "    </tr>\n",
       "    <tr>\n",
       "      <th>std</th>\n",
       "      <td>0.0</td>\n",
       "      <td>0.0</td>\n",
       "      <td>0.433213</td>\n",
       "      <td>0.317733</td>\n",
       "      <td>0.387060</td>\n",
       "      <td>0.223607</td>\n",
       "    </tr>\n",
       "    <tr>\n",
       "      <th>min</th>\n",
       "      <td>1.0</td>\n",
       "      <td>1.0</td>\n",
       "      <td>0.000000</td>\n",
       "      <td>0.000000</td>\n",
       "      <td>0.000000</td>\n",
       "      <td>0.000000</td>\n",
       "    </tr>\n",
       "    <tr>\n",
       "      <th>25%</th>\n",
       "      <td>1.0</td>\n",
       "      <td>1.0</td>\n",
       "      <td>1.000000</td>\n",
       "      <td>1.000000</td>\n",
       "      <td>1.000000</td>\n",
       "      <td>1.000000</td>\n",
       "    </tr>\n",
       "    <tr>\n",
       "      <th>50%</th>\n",
       "      <td>1.0</td>\n",
       "      <td>1.0</td>\n",
       "      <td>1.000000</td>\n",
       "      <td>1.000000</td>\n",
       "      <td>1.000000</td>\n",
       "      <td>1.000000</td>\n",
       "    </tr>\n",
       "    <tr>\n",
       "      <th>75%</th>\n",
       "      <td>1.0</td>\n",
       "      <td>1.0</td>\n",
       "      <td>1.000000</td>\n",
       "      <td>1.000000</td>\n",
       "      <td>1.000000</td>\n",
       "      <td>1.000000</td>\n",
       "    </tr>\n",
       "    <tr>\n",
       "      <th>max</th>\n",
       "      <td>1.0</td>\n",
       "      <td>1.0</td>\n",
       "      <td>1.000000</td>\n",
       "      <td>1.000000</td>\n",
       "      <td>1.000000</td>\n",
       "      <td>1.000000</td>\n",
       "    </tr>\n",
       "  </tbody>\n",
       "</table>\n",
       "</div>"
      ],
      "text/plain": [
       "       given_name  surname  date_of_birth      suburb       state   address_1\n",
       "count       361.0    361.0     361.000000  361.000000  361.000000  361.000000\n",
       "mean          1.0      1.0       0.750693    0.886427    0.817175    0.947368\n",
       "std           0.0      0.0       0.433213    0.317733    0.387060    0.223607\n",
       "min           1.0      1.0       0.000000    0.000000    0.000000    0.000000\n",
       "25%           1.0      1.0       1.000000    1.000000    1.000000    1.000000\n",
       "50%           1.0      1.0       1.000000    1.000000    1.000000    1.000000\n",
       "75%           1.0      1.0       1.000000    1.000000    1.000000    1.000000\n",
       "max           1.0      1.0       1.000000    1.000000    1.000000    1.000000"
      ]
     },
     "execution_count": 70,
     "metadata": {},
     "output_type": "execute_result"
    }
   ],
   "source": [
    "# this shows the statistics of the features\n",
    "features.describe()"
   ]
  },
  {
   "cell_type": "markdown",
   "id": "3bb8cc22",
   "metadata": {},
   "source": [
    "The last step is to decide which records belong to the same person. In this example, we keep it simple:"
   ]
  },
  {
   "cell_type": "code",
   "execution_count": 71,
   "id": "4eeba781",
   "metadata": {},
   "outputs": [
    {
     "data": {
      "text/plain": [
       "6.0    176\n",
       "5.0    156\n",
       "4.0     27\n",
       "3.0      2\n",
       "Name: count, dtype: int64"
      ]
     },
     "execution_count": 71,
     "metadata": {},
     "output_type": "execute_result"
    }
   ],
   "source": [
    "features.sum(axis=1).value_counts().sort_index(ascending=False)"
   ]
  },
  {
   "cell_type": "markdown",
   "id": "2369659b",
   "metadata": {},
   "source": [
    "This indicates that there 176 records which are exact duplications according to these six features. There are 156 records, which matches on five features."
   ]
  }
 ],
 "metadata": {
  "kernelspec": {
   "display_name": "data_engineer",
   "language": "python",
   "name": "python3"
  },
  "language_info": {
   "codemirror_mode": {
    "name": "ipython",
    "version": 3
   },
   "file_extension": ".py",
   "mimetype": "text/x-python",
   "name": "python",
   "nbconvert_exporter": "python",
   "pygments_lexer": "ipython3",
   "version": "3.13.5"
  }
 },
 "nbformat": 4,
 "nbformat_minor": 5
}
